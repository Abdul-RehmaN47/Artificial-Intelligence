{
 "cells": [
  {
   "cell_type": "code",
   "execution_count": 1,
   "id": "6377578e-34a9-4874-9770-dfc571949d6e",
   "metadata": {},
   "outputs": [],
   "source": [
    "# Lists:\n",
    "lis = "
   ]
  },
  {
   "cell_type": "code",
   "execution_count": null,
   "id": "743fd89c-8a10-4d02-afe1-fbdb6e16199f",
   "metadata": {},
   "outputs": [],
   "source": []
  }
 ],
 "metadata": {
  "kernelspec": {
   "display_name": "Python 3 (ipykernel)",
   "language": "python",
   "name": "python3"
  },
  "language_info": {
   "codemirror_mode": {
    "name": "ipython",
    "version": 3
   },
   "file_extension": ".py",
   "mimetype": "text/x-python",
   "name": "python",
   "nbconvert_exporter": "python",
   "pygments_lexer": "ipython3",
   "version": "3.13.2"
  }
 },
 "nbformat": 4,
 "nbformat_minor": 5
}
